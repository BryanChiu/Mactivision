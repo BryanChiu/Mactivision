{
 "cells": [
  {
   "cell_type": "code",
   "execution_count": 1,
   "metadata": {},
   "outputs": [
    {
     "name": "stdout",
     "output_type": "stream",
     "text": [
      "{'eventType': 'key down', 'eventValue': 'C', 'timeStamp': '1603722391637'}\n",
      "{'eventType': 'key down', 'eventValue': 'C', 'timeStamp': '1603722392145'}\n",
      "{'eventType': 'key down', 'eventValue': 'C', 'timeStamp': '1603722393125'}\n",
      "{'eventType': 'key down', 'eventValue': 'C', 'timeStamp': '1603722395431'}\n",
      "{'eventType': 'key down', 'eventValue': 'C', 'timeStamp': '1603722396112'}\n",
      "{'eventType': 'key down', 'eventValue': 'C', 'timeStamp': '1603722397852'}\n",
      "{'eventType': 'key down', 'eventValue': 'C', 'timeStamp': '1603722399123'}\n",
      "{'eventType': 'key down', 'eventValue': 'C', 'timeStamp': '1603722401214'}\n",
      "{'eventType': 'key down', 'eventValue': 'C', 'timeStamp': '1603722403531'}\n",
      "{'key down C': [1603722391637, 1603722392145, 1603722393125, 1603722395431, 1603722396112, 1603722397852, 1603722399123, 1603722401214, 1603722403531]}\n"
     ]
    }
   ],
   "source": [
    "import json\n",
    "\n",
    "with open('./test_data.json') as f:\n",
    "    data = json.load(f)\n",
    "    \n",
    "input_data = data.get('inputData')\n",
    "for i in input_data:\n",
    "    print(i)\n",
    "\n",
    "input_dict = {}\n",
    "for i in input_data:\n",
    "    key = i.get('eventType') + ' ' + i.get('eventValue')\n",
    "    if key not in input_dict:\n",
    "        input_dict[key] = [int(i.get('timeStamp'))]\n",
    "    else:\n",
    "        input_dict[key].append(int(i.get('timeStamp')))\n",
    "print(input_dict)"
   ]
  },
  {
   "cell_type": "code",
   "execution_count": 2,
   "metadata": {},
   "outputs": [
    {
     "name": "stdout",
     "output_type": "stream",
     "text": [
      "[0.0, 0.508, 1.488, 3.794, 4.475, 6.215, 7.486, 9.577, 11.894]\n"
     ]
    },
    {
     "data": {
      "text/plain": [
       "<matplotlib.legend.Legend at 0x7f14e41622e8>"
      ]
     },
     "execution_count": 2,
     "metadata": {},
     "output_type": "execute_result"
    },
    {
     "data": {
      "image/png": "[encoded data removed]",
      "text/plain": [
       "<Figure size 432x288 with 1 Axes>"
      ]
     },
     "metadata": {
      "needs_background": "light"
     },
     "output_type": "display_data"
    }
   ],
   "source": [
    "import matplotlib.pyplot as plt\n",
    "import numpy as np\n",
    "\n",
    "# Create plot\n",
    "fig, ax = plt.subplots()\n",
    "\n",
    "# Create data for plot\n",
    "start_time = int(data.get('gameStart'))    \n",
    "for input_key in input_dict:\n",
    "    values = input_dict[input_key]\n",
    "    input_time_seconds = [(i - start_time)/1000.0 for i in values]\n",
    "    print(input_time_seconds)\n",
    "    input_time_delta = [input_time_seconds[i+1] - input_time_seconds[i] for i in range(len(input_time_seconds) - 1)]\n",
    "    avg_input_time_delta = np.average(input_time_delta)\n",
    "                          \n",
    "#     ax.plot(input_time_seconds, 'o', label='Time of Input ({0})'.format(input_key))\n",
    "    ax.plot(input_time_delta, 'o', label='Time since last input')\n",
    "    ax.plot([0,len(input_time_delta)-1], [avg_input_time_delta, avg_input_time_delta], label='Average Time between inputs', linestyle=\"--\")\n",
    "\n",
    "# Finish initializing plot\n",
    "ax.set_xlabel('Input number')\n",
    "ax.set_ylabel('Time Since Start of Game (Seconds)')\n",
    "ax.legend()"
   ]
  },
  {
   "cell_type": "code",
   "execution_count": 30,
   "metadata": {},
   "outputs": [
    {
     "name": "stdout",
     "output_type": "stream",
     "text": [
      "455\n",
      "456\n"
     ]
    },
    {
     "data": {
      "text/plain": [
       "<matplotlib.collections.LineCollection at 0x7f14e182c668>"
      ]
     },
     "execution_count": 30,
     "metadata": {},
     "output_type": "execute_result"
    },
    {
     "data": {
      "image/png": "[encoded data removed]",
      "text/plain": [
       "<Figure size 432x288 with 1 Axes>"
      ]
     },
     "metadata": {
      "needs_background": "light"
     },
     "output_type": "display_data"
    }
   ],
   "source": [
    "import json\n",
    "import matplotlib.pyplot as plt\n",
    "\n",
    "def delta_times_fn(times):\n",
    "    result = []\n",
    "    for i in range(len(times)-1):\n",
    "        result.append((times[i+1] - times[i]))\n",
    "    return result\n",
    "\n",
    "with open('./bryans_data.json') as f:\n",
    "    bryans_data = json.load(f)\n",
    "    \n",
    "input_data = bryans_data.get('inputData')\n",
    "\n",
    "down_times = []\n",
    "up_times = []\n",
    "times = []\n",
    "\n",
    "for i in input_data:\n",
    "    if i.get('Value'):\n",
    "        down_times.append(float(i.get('TimeStamp')))\n",
    "    else:\n",
    "        up_times.append(float(i.get('TimeStamp')))\n",
    "    times.append(float(i.get('TimeStamp')))\n",
    "    \n",
    "down_delta_times = delta_times_fn(down_times)\n",
    "up_delta_times = delta_times_fn(up_times)\n",
    "\n",
    "_, bryan_plt = plt.subplots()\n",
    "plt.plot(down_times[1:], down_delta_times)\n"
   ]
  },
  {
   "cell_type": "code",
   "execution_count": null,
   "metadata": {},
   "outputs": [],
   "source": []
  },
  {
   "cell_type": "code",
   "execution_count": null,
   "metadata": {},
   "outputs": [],
   "source": []
  }
 ],
 "metadata": {
  "kernelspec": {
   "display_name": "Python 3",
   "language": "python",
   "name": "python3"
  },
  "language_info": {
   "codemirror_mode": {
    "name": "ipython",
    "version": 3
   },
   "file_extension": ".py",
   "mimetype": "text/x-python",
   "name": "python",
   "nbconvert_exporter": "python",
   "pygments_lexer": "ipython3",
   "version": "3.6.9"
  }
 },
 "nbformat": 4,
 "nbformat_minor": 4
}
